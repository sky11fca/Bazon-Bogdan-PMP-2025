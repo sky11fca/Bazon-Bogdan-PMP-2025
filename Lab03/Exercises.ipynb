{
 "cells": [
  {
   "metadata": {},
   "cell_type": "markdown",
   "source": "# Required Dependencies",
   "id": "4ac3e8582bc7164a"
  },
  {
   "metadata": {
    "ExecuteTime": {
     "end_time": "2025-10-15T12:23:11.787566Z",
     "start_time": "2025-10-15T12:23:11.785199Z"
    }
   },
   "cell_type": "code",
   "source": [
    "from pgmpy.factors.discrete import TabularCPD\n",
    "from pgmpy.models import DiscreteBayesianNetwork\n",
    "from pgmpy.inference import VariableElimination\n",
    "\n",
    "\n",
    "import networkx as nx\n",
    "import numpy as np"
   ],
   "id": "9bbc539d959a102e",
   "outputs": [],
   "execution_count": 67
  },
  {
   "metadata": {},
   "cell_type": "markdown",
   "source": [
    "# Exercise 1\n",
    "\n",
    "\n",
    "We have the following system that classifies emails with Bayesian Networks to evaluate whether given mail is Spam observed by features:\n",
    "- S: Email is a spam (S=1) or not a spam (S=0)\n",
    "- O: Mail that contain \"offer\" (O=1) or not (O=0)\n",
    "- L: Mail containing links (L=1) or not (L=0)\n",
    "- M: Long Mail (M=1) or short (M=0)\n",
    "\n",
    "Structure of the Bayesian Network\n",
    "- Spam influences the probability that the email contains the word offer and contains links\n",
    "- Length of email is influenced both by whether is a spam and presence of links\n",
    "\n",
    "Conditional and Marginal Probability Distribution:\n",
    "\n",
    "- P(S=1) = 0.4; P(S=0) = 0.6\n",
    "- P(O=1 | S=1) = 0.7, P(0=1 | S=0) = 0.1\n",
    "- P(L=1 | S=1) = 0.8, P(L=1|S=0) = 0.3\n",
    "- P(M=1|S=1, L=1) = 0.9; P(M=1|S=1, L=0) = 0.5\n",
    "- P(M=1|S=0, L=1) = 0.6; P(M=1|S=0, L=0) = 0.2"
   ],
   "id": "fd60732b64f756ae"
  },
  {
   "metadata": {},
   "cell_type": "markdown",
   "source": [
    "## Subpoint a\n",
    "Identify dependencies of the network"
   ],
   "id": "b70ff40be7925908"
  },
  {
   "metadata": {
    "ExecuteTime": {
     "end_time": "2025-10-15T11:15:37.680602Z",
     "start_time": "2025-10-15T11:15:37.599721Z"
    }
   },
   "cell_type": "code",
   "source": [
    "email_model = DiscreteBayesianNetwork([('S', 'O'), ('S', 'L'), ('S', 'M'), ('L', 'M')])\n",
    "pos = nx.circular_layout(email_model)\n",
    "nx.draw(email_model, with_labels=True, pos=pos)"
   ],
   "id": "f69f23e4af17973",
   "outputs": [
    {
     "data": {
      "text/plain": [
       "<Figure size 640x480 with 1 Axes>"
      ],
      "image/png": "[encoded data removed]"
     },
     "metadata": {},
     "output_type": "display_data",
     "jetTransient": {
      "display_id": null
     }
    }
   ],
   "execution_count": 17
  },
  {
   "metadata": {
    "ExecuteTime": {
     "end_time": "2025-10-15T11:16:45.460637Z",
     "start_time": "2025-10-15T11:16:45.456240Z"
    }
   },
   "cell_type": "code",
   "source": "email_model.local_independencies(['S', 'L', 'M', 'O'])",
   "id": "65d8e119141d9482",
   "outputs": [
    {
     "data": {
      "text/plain": [
       "(L ⟂ O | S)\n",
       "(M ⟂ O | L, S)\n",
       "(O ⟂ L, M | S)"
      ]
     },
     "execution_count": 18,
     "metadata": {},
     "output_type": "execute_result"
    }
   ],
   "execution_count": 18
  },
  {
   "metadata": {},
   "cell_type": "markdown",
   "source": [
    "## Subpoint b\n",
    "\n",
    "Determine how the Bayesian Network classifies emails based on attributes O, L, M"
   ],
   "id": "28a0201a6038ae99"
  },
  {
   "metadata": {
    "ExecuteTime": {
     "end_time": "2025-10-15T11:38:32.390721Z",
     "start_time": "2025-10-15T11:38:32.384749Z"
    }
   },
   "cell_type": "code",
   "source": [
    "# Root of the bayesian model\n",
    "\n",
    "cpd_s = TabularCPD(variable='S', variable_card=2, values=[\n",
    "    [0.6], #P(S=0)\n",
    "    [0.4]  #P(S=1)\n",
    "])\n",
    "\n",
    "# Nodes of the bayesian model with 1 parent\n",
    "cpd_l = TabularCPD(variable='L', variable_card=2, values=[\n",
    "    [0.9, 0.3], # P(O=0|S=0), P(O=0|S=1)\n",
    "    [0.1, 0.7] # P(O=1|S=0), P(O=1|S=1)\n",
    "], evidence=[\"S\"], evidence_card=[2])\n",
    "cpd_o = TabularCPD(variable='O', variable_card=2, values=[\n",
    "    [0.7, 0.2], # P(L=0|S=0), P(L=0|S=1)\n",
    "    [0.3, 0.8] # P(L=1|S=0), P(L=1|S=1)\n",
    "], evidence=[\"S\"], evidence_card=[2])\n",
    "\n",
    "# Nodes of the bayesian model with 2 parents\n",
    "cpd_m = TabularCPD(variable='M', variable_card=2, values=[\n",
    "    [0.8, 0.4, 0.5, 0.1], # P(M=0|S=0, L=0); P(M=0|S=0, L=1); P(M=0|S=1, L=0); P(M=0|S=1, L=1)\n",
    "    [0.2, 0.6, 0.5, 0.9] # P(M=1|S=0, L=0); P(M=1|S=0, L=1); P(M=1|S=1, L=0); P(M=1|S=1, L=1)\n",
    "], evidence=[\"S\", \"L\"], evidence_card=[2, 2])\n",
    "\n",
    "email_model.add_cpds(cpd_s, cpd_o, cpd_l, cpd_m)\n",
    "\n",
    "print(email_model.check_model())"
   ],
   "id": "5beef4630d6c1355",
   "outputs": [
    {
     "name": "stdout",
     "output_type": "stream",
     "text": [
      "True\n"
     ]
    }
   ],
   "execution_count": 23
  },
  {
   "metadata": {},
   "cell_type": "markdown",
   "source": "### Variable elimination for inference",
   "id": "a81a734db6fbc088"
  },
  {
   "metadata": {
    "ExecuteTime": {
     "end_time": "2025-10-15T11:44:50.622140Z",
     "start_time": "2025-10-15T11:44:50.619579Z"
    }
   },
   "cell_type": "code",
   "source": "infer = VariableElimination(email_model)",
   "id": "fe619153f7cbc16f",
   "outputs": [],
   "execution_count": 38
  },
  {
   "metadata": {},
   "cell_type": "markdown",
   "source": "### Case 1: Email with offer, links and is long:",
   "id": "bbd5ace1092c23f3"
  },
  {
   "metadata": {
    "ExecuteTime": {
     "end_time": "2025-10-15T11:44:53.296933Z",
     "start_time": "2025-10-15T11:44:53.291963Z"
    }
   },
   "cell_type": "code",
   "source": [
    "\n",
    "\n",
    "print(\"=\"*60)\n",
    "print(\"Example 1: O=1, L=1, M=1 (has offer, has links, is long)\")\n",
    "print(\"=\"*60)\n",
    "result1 = infer.query(['S'], evidence={'O': 1, 'L': 1, 'M': 1})\n",
    "print(result1)\n",
    "print(f\"\\nProbability of SPAM: {result1.values[1]:.4f}\")\n",
    "print(f\"Classification: {'SPAM' if result1.values[1] > 0.5 else 'NOT SPAM'}\")"
   ],
   "id": "99526783d2558db8",
   "outputs": [
    {
     "name": "stdout",
     "output_type": "stream",
     "text": [
      "============================================================\n",
      "Example 1: O=1, L=1, M=1 (has offer, has links, is long)\n",
      "============================================================\n",
      "+------+----------+\n",
      "| S    |   phi(S) |\n",
      "+======+==========+\n",
      "| S(0) |   0.0508 |\n",
      "+------+----------+\n",
      "| S(1) |   0.9492 |\n",
      "+------+----------+\n",
      "\n",
      "Probability of SPAM: 0.9492\n",
      "Classification: SPAM\n"
     ]
    }
   ],
   "execution_count": 39
  },
  {
   "metadata": {},
   "cell_type": "markdown",
   "source": "### Case 2: Email with no offer, links, and short",
   "id": "4aec750c7264f820"
  },
  {
   "metadata": {
    "ExecuteTime": {
     "end_time": "2025-10-15T11:46:01.911838Z",
     "start_time": "2025-10-15T11:46:01.907021Z"
    }
   },
   "cell_type": "code",
   "source": [
    "print(\"\\n\" + \"=\"*60)\n",
    "print(\"Example 2: O=0, L=0, M=0 (no offer, no links, short)\")\n",
    "print(\"=\"*60)\n",
    "result2 = infer.query(['S'], evidence={'O': 0, 'L': 0, 'M': 0})\n",
    "print(result2)\n",
    "print(f\"\\nProbability of SPAM: {result2.values[1]:.4f}\")\n",
    "print(f\"Classification: {'SPAM' if result2.values[1] > 0.5 else 'NOT SPAM'}\")"
   ],
   "id": "ae81a0981ee628b2",
   "outputs": [
    {
     "name": "stdout",
     "output_type": "stream",
     "text": [
      "\n",
      "============================================================\n",
      "Example 2: O=0, L=0, M=0 (no offer, no links, short)\n",
      "============================================================\n",
      "+------+----------+\n",
      "| S    |   phi(S) |\n",
      "+======+==========+\n",
      "| S(0) |   0.9618 |\n",
      "+------+----------+\n",
      "| S(1) |   0.0382 |\n",
      "+------+----------+\n",
      "\n",
      "Probability of SPAM: 0.0382\n",
      "Classification: NOT SPAM\n"
     ]
    }
   ],
   "execution_count": 43
  },
  {
   "metadata": {},
   "cell_type": "markdown",
   "source": "### Case 3: Email with ofer, no links, short",
   "id": "142d132de0de001a"
  },
  {
   "metadata": {
    "ExecuteTime": {
     "end_time": "2025-10-15T11:46:42.268227Z",
     "start_time": "2025-10-15T11:46:42.263652Z"
    }
   },
   "cell_type": "code",
   "source": [
    "print(\"\\n\" + \"=\"*60)\n",
    "print(\"Example 3: O=1, L=0, M=0 (has offer, no links, short)\")\n",
    "print(\"=\"*60)\n",
    "result3 = infer.query(['S'], evidence={'O': 1, 'L': 0, 'M': 0})\n",
    "print(result3)\n",
    "print(f\"\\nProbability of SPAM: {result3.values[1]:.4f}\")\n",
    "print(f\"Classification: {'SPAM' if result3.values[1] > 0.5 else 'NOT SPAM'}\")"
   ],
   "id": "a8b291f6f792fc7e",
   "outputs": [
    {
     "name": "stdout",
     "output_type": "stream",
     "text": [
      "\n",
      "============================================================\n",
      "Example 3: O=1, L=0, M=0 (has offer, no links, short)\n",
      "============================================================\n",
      "+------+----------+\n",
      "| S    |   phi(S) |\n",
      "+======+==========+\n",
      "| S(0) |   0.7297 |\n",
      "+------+----------+\n",
      "| S(1) |   0.2703 |\n",
      "+------+----------+\n",
      "\n",
      "Probability of SPAM: 0.2703\n",
      "Classification: NOT SPAM\n"
     ]
    }
   ],
   "execution_count": 44
  },
  {
   "metadata": {},
   "cell_type": "markdown",
   "source": "### Case 4: It knows it has links",
   "id": "6479753e67a1168b"
  },
  {
   "metadata": {
    "ExecuteTime": {
     "end_time": "2025-10-15T11:48:03.382468Z",
     "start_time": "2025-10-15T11:48:03.377480Z"
    }
   },
   "cell_type": "code",
   "source": [
    "print(\"\\n\" + \"=\"*60)\n",
    "print(\"Example 4: L=1 (only know it has links)\")\n",
    "print(\"=\"*60)\n",
    "result4 = infer.query(['S'], evidence={'L': 1})\n",
    "print(result4)\n",
    "print(f\"\\nProbability of SPAM: {result4.values[1]:.4f}\")\n",
    "print(f\"Classification: {'SPAM' if result4.values[1] > 0.5 else 'NOT SPAM'}\")"
   ],
   "id": "566b9e99d2428072",
   "outputs": [
    {
     "name": "stdout",
     "output_type": "stream",
     "text": [
      "\n",
      "============================================================\n",
      "Example 4: L=1 (only know it has links)\n",
      "============================================================\n",
      "+------+----------+\n",
      "| S    |   phi(S) |\n",
      "+======+==========+\n",
      "| S(0) |   0.1765 |\n",
      "+------+----------+\n",
      "| S(1) |   0.8235 |\n",
      "+------+----------+\n",
      "\n",
      "Probability of SPAM: 0.8235\n",
      "Classification: SPAM\n"
     ]
    }
   ],
   "execution_count": 45
  },
  {
   "metadata": {},
   "cell_type": "markdown",
   "source": [
    "### How the Bayesian Network classifies things:\n",
    "\n",
    "1. It observes from features O, L, M from the email\n",
    "2. Computes the P(S | O, L, M)\n",
    "3. Decisions:\n",
    "    - If P(S=1|O, L, M) > 0.5 -> Spam\n",
    "    - If P(S=1 | O, L, M) <= 0.5 -> Not Spam"
   ],
   "id": "6223b3a3deeeac31"
  },
  {
   "metadata": {},
   "cell_type": "markdown",
   "source": [
    "# Exercise 2\n",
    "\n",
    "From Previous lab excercise 1:\n",
    "\n",
    "We have a urn containing 3 red balls, 4 blue balls, and 2 black balls. We roll a die. If we gat a prime number then we put a black ball to the urn. If we get 6, we put a red ball in the urn, If we get something else, we put a blue ball. Then we draw 1 ball from the urn\n",
    "\n",
    "Simulate the experiment in python and using the experiment, estimate the probability of drawing a red ball\n",
    "\n",
    "Solve this exercise using Bayesian Network"
   ],
   "id": "ef80b28213be37a0"
  },
  {
   "metadata": {},
   "cell_type": "markdown",
   "source": [
    "## Solution\n",
    "\n",
    "Here is the following model:\n",
    "1. Rolling a die (D) -> The outcome of rolling a die\n",
    "2. Ball adding (A) -> the color of the ball we put in the urn\n",
    "3. Ball drawing (B) -> The color of the ball we draw from the urn"
   ],
   "id": "86c7d4b0662c7138"
  },
  {
   "metadata": {},
   "cell_type": "markdown",
   "source": "### Creating the model",
   "id": "313c26820aaf35ff"
  },
  {
   "metadata": {
    "ExecuteTime": {
     "end_time": "2025-10-15T12:07:26.169921Z",
     "start_time": "2025-10-15T12:07:26.167661Z"
    }
   },
   "cell_type": "code",
   "source": "urn_model = DiscreteBayesianNetwork([('D', 'A'), ('A', 'B')])",
   "id": "70a5e1e0fce0bcb6",
   "outputs": [],
   "execution_count": 58
  },
  {
   "metadata": {},
   "cell_type": "markdown",
   "source": "### Computing the CPD",
   "id": "b5a8b7fb9fd9cfc7"
  },
  {
   "metadata": {
    "ExecuteTime": {
     "end_time": "2025-10-15T12:07:28.880784Z",
     "start_time": "2025-10-15T12:07:28.877286Z"
    }
   },
   "cell_type": "code",
   "source": [
    "\n",
    "# Die roll cpd. We have 6 outcomes for each face.\n",
    "# Root of the bayesian model\n",
    "cpd_die = TabularCPD(variable='D', variable_card=6, values=[\n",
    "    [1/6],[1/6],[1/6],[1/6],[1/6],[1/6] # probability of each face is 1/6\n",
    "])\n",
    "\n",
    "# Ball adding given the die roll D\n",
    "# Node with 1 parent\n",
    "\n",
    "cpd_add = TabularCPD(variable='A', variable_card=3, values=[\n",
    "    [0, 0, 0, 0, 0, 1], # If given number is 6\n",
    "    [1, 0, 0, 1, 0, 0], # If given number is not prime\n",
    "    [0, 1, 1, 0, 1, 0] # If given number is prime\n",
    "], evidence=['D'], evidence_card=[6])\n",
    "\n",
    "cpd_draw = TabularCPD(variable='B', variable_card=3,values=[\n",
    "        [4/10, 3/10, 3/10],  # P(B=red | A) - after adding red/blue/black\n",
    "        [4/10, 5/10, 4/10],  # P(B=blue | A)\n",
    "        [2/10, 2/10, 3/10]   # P(B=black | A)\n",
    "    ],\n",
    "    evidence=['A'],\n",
    "    evidence_card=[3]\n",
    ")"
   ],
   "id": "19193885269a984",
   "outputs": [],
   "execution_count": 59
  },
  {
   "metadata": {},
   "cell_type": "markdown",
   "source": "### Adding the CPD to the model",
   "id": "43bd39311560632d"
  },
  {
   "metadata": {
    "ExecuteTime": {
     "end_time": "2025-10-15T12:07:31.726602Z",
     "start_time": "2025-10-15T12:07:31.724506Z"
    }
   },
   "cell_type": "code",
   "source": "urn_model.add_cpds(cpd_die, cpd_add, cpd_draw)",
   "id": "b381ec31035dc322",
   "outputs": [],
   "execution_count": 60
  },
  {
   "metadata": {},
   "cell_type": "markdown",
   "source": "### Verify",
   "id": "edf3304499ae03b4"
  },
  {
   "metadata": {
    "ExecuteTime": {
     "end_time": "2025-10-15T12:07:32.665351Z",
     "start_time": "2025-10-15T12:07:32.662077Z"
    }
   },
   "cell_type": "code",
   "source": "print(urn_model.check_model())",
   "id": "2654473da416e7ec",
   "outputs": [
    {
     "name": "stdout",
     "output_type": "stream",
     "text": [
      "True\n"
     ]
    }
   ],
   "execution_count": 61
  },
  {
   "metadata": {},
   "cell_type": "markdown",
   "source": "### Perform Inference",
   "id": "fb30e320efa98dfa"
  },
  {
   "metadata": {
    "ExecuteTime": {
     "end_time": "2025-10-15T12:08:13.851543Z",
     "start_time": "2025-10-15T12:08:13.848885Z"
    }
   },
   "cell_type": "code",
   "source": "infer = VariableElimination(urn_model)",
   "id": "7bf1ba601ff05b52",
   "outputs": [],
   "execution_count": 62
  },
  {
   "metadata": {},
   "cell_type": "markdown",
   "source": "### Query the probability of drawing a red ball",
   "id": "ee09db278ba30c77"
  },
  {
   "metadata": {
    "ExecuteTime": {
     "end_time": "2025-10-15T12:08:58.577713Z",
     "start_time": "2025-10-15T12:08:58.573500Z"
    }
   },
   "cell_type": "code",
   "source": [
    "result = infer.query(['B'])\n",
    "print(\"\\nProbability distribution of drawn ball:\")\n",
    "print(result)\n",
    "print(f\"\\nProbability of drawing RED ball: {result.values[0]:.4f}\")\n",
    "print(f\"Probability of drawing BLUE ball: {result.values[1]:.4f}\")\n",
    "print(f\"Probability of drawing BLACK ball: {result.values[2]:.4f}\")"
   ],
   "id": "d00cf1bd4740272d",
   "outputs": [
    {
     "name": "stdout",
     "output_type": "stream",
     "text": [
      "\n",
      "Probability distribution of drawn ball:\n",
      "+------+----------+\n",
      "| B    |   phi(B) |\n",
      "+======+==========+\n",
      "| B(0) |   0.3167 |\n",
      "+------+----------+\n",
      "| B(1) |   0.4333 |\n",
      "+------+----------+\n",
      "| B(2) |   0.2500 |\n",
      "+------+----------+\n",
      "\n",
      "Probability of drawing RED ball: 0.3167\n",
      "Probability of drawing BLUE ball: 0.4333\n",
      "Probability of drawing BLACK ball: 0.2500\n"
     ]
    }
   ],
   "execution_count": 65
  },
  {
   "metadata": {},
   "cell_type": "markdown",
   "source": "### EXTRA: Viewing the Bayesian Network",
   "id": "98914882ae57326e"
  },
  {
   "metadata": {
    "ExecuteTime": {
     "end_time": "2025-10-15T12:10:01.709388Z",
     "start_time": "2025-10-15T12:10:01.669285Z"
    }
   },
   "cell_type": "code",
   "source": [
    "pos = nx.circular_layout(urn_model)\n",
    "nx.draw(urn_model, with_labels=True, pos=pos)"
   ],
   "id": "450a1996f766bbcf",
   "outputs": [
    {
     "data": {
      "text/plain": [
       "<Figure size 640x480 with 1 Axes>"
      ],
      "image/png": "[encoded data removed]"
     },
     "metadata": {},
     "output_type": "display_data",
     "jetTransient": {
      "display_id": null
     }
    }
   ],
   "execution_count": 66
  },
  {
   "metadata": {},
   "cell_type": "markdown",
   "source": [
    "# Exercise 3\n",
    "\n",
    "A game between P0 and P1 that follows:\n",
    "\n",
    "- A (fair) coin is tossed to decide the first move P0 or P1\n",
    "- The first round, the designated player rolls a die; n being the number obtained\n",
    "- Second round, the player flips their own coin 2*n times; m being the number of heads obtained.\n",
    "\n",
    "The player from the first round wins if n >= , otherwise the second-round player wins. also P1 is dishonest and brought a rigged coin with probability of head = 4/7 in contrast with P0's coin with fair coin and both player's die is fair\n",
    "\n",
    "a) Estimate which of the 2 player has the higher chance of winning simulating the game 10000 times\n",
    "b) Using pgmpy, define the Bayesian Network defined above\n",
    "c) Using the model, determine who is most likely to start the game knowing that only one head was obtained in second round"
   ],
   "id": "ff446d226a7ceadd"
  },
  {
   "metadata": {},
   "cell_type": "markdown",
   "source": "### Solution a",
   "id": "57cf6708b437f75c"
  },
  {
   "metadata": {},
   "cell_type": "markdown",
   "source": "### Simulating the game",
   "id": "2c64caf48a377595"
  },
  {
   "metadata": {
    "ExecuteTime": {
     "end_time": "2025-10-15T12:39:46.801619Z",
     "start_time": "2025-10-15T12:39:46.798048Z"
    }
   },
   "cell_type": "code",
   "source": [
    "def game_simulation():\n",
    "    first_player = np.random.choice([0, 1]) # player 1 or player 0\n",
    "\n",
    "    n = np.random.randint(1, 7) # number of die face\n",
    "\n",
    "    toss_number = 2*n # number of tosses determined by face\n",
    "\n",
    "    if first_player == 0: # probability of coin landing head based of player\n",
    "        coin_prob = 1/2\n",
    "    else:\n",
    "        coin_prob = 4/7\n",
    "\n",
    "    flips = np.random.random(toss_number) < coin_prob # list of consecutive flips whether is head or not\n",
    "\n",
    "    m = np.sum(flips) # counting the number of heads\n",
    "\n",
    "    if n>=m:\n",
    "        winner = first_player\n",
    "    else:\n",
    "        winner = 1-first_player\n",
    "\n",
    "    return winner\n",
    "\n",
    "print(game_simulation())"
   ],
   "id": "1c9017a84d4424a0",
   "outputs": [
    {
     "name": "stdout",
     "output_type": "stream",
     "text": [
      "1\n"
     ]
    }
   ],
   "execution_count": 105
  },
  {
   "metadata": {},
   "cell_type": "markdown",
   "source": "### Simulating the game 10000 times",
   "id": "cb6544925fde38f9"
  },
  {
   "metadata": {
    "ExecuteTime": {
     "end_time": "2025-10-15T12:39:55.819619Z",
     "start_time": "2025-10-15T12:39:55.816313Z"
    }
   },
   "cell_type": "code",
   "source": [
    "nr_simulatons = 10000\n",
    "\n",
    "result = [game_simulation() for _ in range(game_simulation())]\n",
    "\n",
    "p0_wins = result.count(0)\n",
    "p1_wins = result.count(1)\n",
    "\n",
    "p0_prob = p0_wins / nr_simulatons\n",
    "p1_prob = p1_wins / nr_simulatons\n",
    "\n",
    "print(f\"Number of games won by P0: {p0_wins} Prob: {p0_prob}\")\n",
    "print(f\"Number of games won by P1: {p1_wins} Prob: {p1_prob}\")\n",
    "\n",
    "if p0_prob > p1_prob:\n",
    "    print(\"P0 is most likely to win\")\n",
    "else:\n",
    "    print(\"P1 is most likely to win\")"
   ],
   "id": "d3ba7b1a1a175b78",
   "outputs": [
    {
     "name": "stdout",
     "output_type": "stream",
     "text": [
      "Number of games won by P0: 0 Prob: 0.0\n",
      "Number of games won by P1: 1 Prob: 0.0001\n",
      "P1 is most likely to win\n"
     ]
    }
   ],
   "execution_count": 117
  }
 ],
 "metadata": {
  "kernelspec": {
   "display_name": "Python 3",
   "language": "python",
   "name": "python3"
  },
  "language_info": {
   "codemirror_mode": {
    "name": "ipython",
    "version": 2
   },
   "file_extension": ".py",
   "mimetype": "text/x-python",
   "name": "python",
   "nbconvert_exporter": "python",
   "pygments_lexer": "ipython2",
   "version": "2.7.6"
  }
 },
 "nbformat": 4,
 "nbformat_minor": 5
}
