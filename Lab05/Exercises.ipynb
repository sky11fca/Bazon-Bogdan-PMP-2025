{
 "cells": [
  {
   "metadata": {},
   "cell_type": "markdown",
   "source": "# Problem 1",
   "id": "b92c41503990b480"
  },
  {
   "metadata": {},
   "cell_type": "markdown",
   "source": "## Solution a",
   "id": "d5a58196e482d89e"
  },
  {
   "metadata": {},
   "cell_type": "markdown",
   "source": "Necessary Libraries",
   "id": "7f0660a297d6c083"
  },
  {
   "metadata": {},
   "cell_type": "code",
   "source": [
    "import numpy as np\n",
    "import networkx as nx\n",
    "from hmmlearn import hmm"
   ],
   "id": "7b9cd090d73f533e",
   "outputs": [],
   "execution_count": null
  },
  {
   "metadata": {},
   "cell_type": "markdown",
   "source": "**Initialization**",
   "id": "21930e5c1e5bd5f5"
  },
  {
   "metadata": {
    "collapsed": true
   },
   "cell_type": "code",
   "source": [
    "# Define the states\n",
    "states = [\"Difficult\", \"Medium\", \"Easy\"]\n",
    "len_states = len(states)\n",
    "\n",
    "# Define the observations\n",
    "observations = [\"FB\", \"B\", \"S\", \"NS\"]\n",
    "len_observations = len(observations)\n",
    "\n",
    "# initial probabilities\n",
    "init_probabilities = np.array([1/3, 1/3, 1/3])\n",
    "\n",
    "# Transition matrix: the difficulty of the first test is equal to all 3\n",
    "# Probability by states is as follows:\n",
    "# If it's difficult, is more likely to transition to medium or easy with a probability of 0.5\n",
    "# If is either medium or easy, transition to hard is 0.5 and from medium or easy to easy is 0.25\n",
    "\n",
    "# order: Difficult, Medium, Easy\n",
    "transition_matrix = np.array([\n",
    "    [0.0, 0.5, 0.5], # difficult: Is more likely the next test to be either medium or easy\n",
    "    [0.5, 0.25, 0.25], # from medium: More likely the next test to be difficult\n",
    "    [0.5, 0.25, 0.25] # from easy: More likely the next test to be difficult\n",
    "])\n",
    "\n",
    "# Emission Matrix. Contains all conditional probabilities of observation given states\n",
    "\n",
    "emission_matrix = np.array([\n",
    "    [0.1, 0.2, 0.4, 0.3],   # marks with the condition that the test is difficult\n",
    "    [0.15, 0.25, 0.5, 0.1], # marks with the condition that the test is medium\n",
    "    [0.2, 0.3, 0.4, 0.1]    # marks with the condition that the test is easy\n",
    "])\n",
    "\n"
   ],
   "id": "92a3cac3643dab6e",
   "outputs": [],
   "execution_count": null
  },
  {
   "metadata": {},
   "cell_type": "markdown",
   "source": "**Creating the Hidden Markov Model**",
   "id": "9987bfc3e0dc755a"
  },
  {
   "metadata": {},
   "cell_type": "code",
   "source": [
    "model = hmm.CategoricalHMM(n_components=len_states, random_state=42)\n",
    "model.startprob_ = init_probabilities\n",
    "model.transmat_ = transition_matrix\n",
    "model.emissionprob_ = emission_matrix"
   ],
   "id": "50ba48c7fc83385c",
   "outputs": [],
   "execution_count": null
  },
  {
   "metadata": {},
   "cell_type": "markdown",
   "source": "**Displaying the model**",
   "id": "eb7de43f199baf5a"
  },
  {
   "metadata": {},
   "cell_type": "code",
   "source": [
    "def plot_state_diagram():\n",
    "    G = nx.DiGraph()\n",
    "\n",
    "    # Add nodes\n",
    "    for i, state in enumerate(states):\n",
    "        G.add_node(state)\n",
    "\n",
    "    # Add edges with probabilities\n",
    "    for i, from_state in enumerate(states):\n",
    "        for j, to_state in enumerate(states):\n",
    "            prob = transition_matrix[i, j]\n",
    "            if prob > 0:\n",
    "                G.add_edge(from_state, to_state, weight=prob, label=f\"{prob:.2f}\")\n",
    "\n",
    "    pos = nx.circular_layout(G)\n",
    "\n",
    "    # Draw state transition diagram\n",
    "    nx.draw_networkx_nodes(G, pos, node_size=1500, node_color='lightblue',\n",
    "                           edgecolors='black', linewidths=2)\n",
    "    nx.draw_networkx_edges(G, pos, width=2, arrows=True, arrowsize=20,\n",
    "                          connectionstyle='arc3,rad=0.1')\n",
    "    nx.draw_networkx_labels(G, pos, font_size=12, font_weight='bold')\n",
    "    edge_labels = nx.get_edge_attributes(G, 'label')\n",
    "    nx.draw_networkx_edge_labels(G, pos, edge_labels=edge_labels, font_size=9)\n",
    "\n",
    "plot_state_diagram()"
   ],
   "id": "4ddcb0c1e47535dd",
   "outputs": [],
   "execution_count": null
  },
  {
   "metadata": {},
   "cell_type": "markdown",
   "source": "## solution B",
   "id": "ec629501d6d230fe"
  },
  {
   "metadata": {},
   "cell_type": "markdown",
   "source": "**Declaring the observation sequence**",
   "id": "942bfcd5a8a29b7e"
  },
  {
   "metadata": {},
   "cell_type": "code",
   "source": [
    "observation_sequence = [\"FB\", \"FB\", \"S\", \"B\", \"B\", \"S\", \"B\", \"B\", \"NS\", \"B\", \"B\"]\n",
    "observation_indices = [0 if entry == \"FB\" else 1 if entry == \"B\" else 2 if entry == \"S\" else 3 for entry in observation_sequence]\n",
    "\n",
    "observations = np.array(observation_indices).reshape(-1, 1)\n",
    "\n",
    "print(observation_sequence)\n",
    "print(observation_indices)\n",
    "print(observations.shape)\n"
   ],
   "id": "706c3a400174e65e",
   "outputs": [],
   "execution_count": null
  },
  {
   "metadata": {},
   "cell_type": "markdown",
   "source": "**Computing the probability**",
   "id": "52562376871f3555"
  },
  {
   "metadata": {},
   "cell_type": "code",
   "source": [
    "log_prob = model.score(observations)\n",
    "probability = np.exp(log_prob)\n",
    "\n",
    "print(f\"Observation sequence: {observation_sequence}\")\n",
    "print(f\"Log probability: {log_prob:.6f}\")\n",
    "print(f\"Probability: {probability:.10f}\")\n",
    "print(f\"Probability (scientific notation): {probability:.2e}\")"
   ],
   "id": "3aeaab42e1c38d39",
   "outputs": [],
   "execution_count": null
  },
  {
   "metadata": {},
   "cell_type": "markdown",
   "source": "## Solution c",
   "id": "4aa526ba4c4c2015"
  },
  {
   "metadata": {},
   "cell_type": "code",
   "source": [
    "state_sequence = model.predict(observations)\n",
    "print(f\"Most probable state sequence: {[states[idx] for idx in state_sequence]}\")\n",
    "\n",
    "log_prob_seq = model.score(observations, state_sequence)\n",
    "\n",
    "print(f\"Log probability of this sequence: {log_prob_seq:.6f}\")\n",
    "print(f\"Probability of this sequence: {np.exp(log_prob_seq):.10f}\")\n",
    "print(f\"Probability of this sequence (scientific notation): {np.exp(log_prob_seq):.2e}\")"
   ],
   "id": "e79c891d4f700818",
   "outputs": [],
   "execution_count": null
  }
 ],
 "metadata": {
  "kernelspec": {
   "display_name": "Python 3",
   "language": "python",
   "name": "python3"
  },
  "language_info": {
   "codemirror_mode": {
    "name": "ipython",
    "version": 2
   },
   "file_extension": ".py",
   "mimetype": "text/x-python",
   "name": "python",
   "nbconvert_exporter": "python",
   "pygments_lexer": "ipython2",
   "version": "2.7.6"
  }
 },
 "nbformat": 4,
 "nbformat_minor": 5
}
