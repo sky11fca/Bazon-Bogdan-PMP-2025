{
 "cells": [
  {
   "metadata": {},
   "cell_type": "markdown",
   "source": "# Dependencies",
   "id": "275d7bd3f1cab03e"
  },
  {
   "metadata": {
    "collapsed": true,
    "ExecuteTime": {
     "end_time": "2025-10-15T11:11:24.186904Z",
     "start_time": "2025-10-15T11:11:22.973111Z"
    }
   },
   "cell_type": "code",
   "source": [
    "from pgmpy.models import DiscreteBayesianNetwork\n",
    "from pgmpy.factors.discrete import TabularCPD\n",
    "from pgmpy.inference import VariableElimination\n",
    "import networkx as nx\n"
   ],
   "id": "7b3b42ed3e15010b",
   "outputs": [],
   "execution_count": 3
  },
  {
   "metadata": {},
   "cell_type": "markdown",
   "source": "# Defining a Bayesian Network",
   "id": "a5afedb20c1b0f19"
  },
  {
   "metadata": {
    "ExecuteTime": {
     "end_time": "2025-10-15T11:11:26.031602Z",
     "start_time": "2025-10-15T11:11:25.656359Z"
    }
   },
   "cell_type": "code",
   "source": [
    "student_model = DiscreteBayesianNetwork([('D', 'G'), ('I', 'G'), ('G', 'L'), ('I', 'S'), ('L','A'),('S','A')])\n",
    "\n",
    "pos = nx.circular_layout(student_model)\n",
    "nx.draw(student_model, with_labels=True, pos=pos, alpha=0.5, node_size=2000)"
   ],
   "id": "942f2515240eac4e",
   "outputs": [
    {
     "data": {
      "text/plain": [
       "<Figure size 640x480 with 1 Axes>"
      ],
      "image/png": "[encoded data removed]"
     },
     "metadata": {},
     "output_type": "display_data",
     "jetTransient": {
      "display_id": null
     }
    }
   ],
   "execution_count": 4
  },
  {
   "metadata": {},
   "cell_type": "markdown",
   "source": "# Defining root Variables",
   "id": "25e5bd1b1a6b0d25"
  },
  {
   "metadata": {
    "ExecuteTime": {
     "end_time": "2025-10-15T08:24:49.472061Z",
     "start_time": "2025-10-15T08:24:49.467233Z"
    }
   },
   "cell_type": "code",
   "source": [
    "CPD_D = TabularCPD(variable='D', variable_card=2, values=[[0.3], [0.7]])\n",
    "print(CPD_D)\n",
    "CPD_I = TabularCPD(variable='I', variable_card=2, values=[[0.2], [0.8]])\n",
    "print(CPD_I)"
   ],
   "id": "21d4b151644deadd",
   "outputs": [
    {
     "name": "stdout",
     "output_type": "stream",
     "text": [
      "+------+-----+\n",
      "| D(0) | 0.3 |\n",
      "+------+-----+\n",
      "| D(1) | 0.7 |\n",
      "+------+-----+\n",
      "+------+-----+\n",
      "| I(0) | 0.2 |\n",
      "+------+-----+\n",
      "| I(1) | 0.8 |\n",
      "+------+-----+\n"
     ]
    }
   ],
   "execution_count": 6
  },
  {
   "metadata": {},
   "cell_type": "markdown",
   "source": "# Defining Variables with 1 parent",
   "id": "c0c9ada0275d49"
  },
  {
   "metadata": {
    "ExecuteTime": {
     "end_time": "2025-10-15T08:31:32.000477Z",
     "start_time": "2025-10-15T08:31:31.995994Z"
    }
   },
   "cell_type": "code",
   "source": [
    "# I don't know why it doesn't show on the notebook\n",
    "\n",
    "CPD_L = TabularCPD(variable='L', variable_card=2,\n",
    "values=[[0.9, 0.6, 0.01],\n",
    "[0.1, 0.4, 0.99]],\n",
    "evidence=['G'],\n",
    "evidence_card=[3])\n",
    "\n",
    "print(CPD_L)\n",
    "\n",
    "CPD_S = TabularCPD(variable='S', variable_card=2,\n",
    "values=[[0.8, 0.1],\n",
    "[0.2, 0.9]],\n",
    "evidence=['I'],\n",
    "evidence_card=[2])\n",
    "\n",
    "print(CPD_S)"
   ],
   "id": "1cf24815fa4f46f5",
   "outputs": [
    {
     "name": "stdout",
     "output_type": "stream",
     "text": [
      "+------+------+------+------+\n",
      "| G    | G(0) | G(1) | G(2) |\n",
      "+------+------+------+------+\n",
      "| L(0) | 0.9  | 0.6  | 0.01 |\n",
      "+------+------+------+------+\n",
      "| L(1) | 0.1  | 0.4  | 0.99 |\n",
      "+------+------+------+------+\n",
      "+------+------+------+\n",
      "| I    | I(0) | I(1) |\n",
      "+------+------+------+\n",
      "| S(0) | 0.8  | 0.1  |\n",
      "+------+------+------+\n",
      "| S(1) | 0.2  | 0.9  |\n",
      "+------+------+------+\n"
     ]
    }
   ],
   "execution_count": 16
  },
  {
   "metadata": {},
   "cell_type": "markdown",
   "source": "# Defining Variables with 2 parents",
   "id": "4fa2bae5dd5c314d"
  },
  {
   "metadata": {
    "ExecuteTime": {
     "end_time": "2025-10-15T08:27:21.996961Z",
     "start_time": "2025-10-15T08:27:21.992249Z"
    }
   },
   "cell_type": "code",
   "source": [
    "CPD_G = TabularCPD(variable='G', variable_card=3,\n",
    "values=[[0.3, 0.7, 0.02, 0.2],\n",
    "[0.4, 0.25, 0.08, 0.3],\n",
    "[0.3, 0.05, 0.9, 0.5]],\n",
    "evidence=['I', 'D'],\n",
    "evidence_card=[2, 2])\n",
    "\n",
    "print(CPD_G)\n",
    "CPD_A = TabularCPD(variable='A', variable_card=2,\n",
    "values=[[0.9, 0.8, 0.7, 0.2],\n",
    "[0.1, 0.2, 0.3, 0.8]],\n",
    "evidence=['L', 'S'],\n",
    "evidence_card=[2, 2])\n",
    "\n",
    "print(CPD_A)"
   ],
   "id": "79c2b6f931b7c08",
   "outputs": [
    {
     "name": "stdout",
     "output_type": "stream",
     "text": [
      "+------+------+------+------+------+\n",
      "| I    | I(0) | I(0) | I(1) | I(1) |\n",
      "+------+------+------+------+------+\n",
      "| D    | D(0) | D(1) | D(0) | D(1) |\n",
      "+------+------+------+------+------+\n",
      "| G(0) | 0.3  | 0.7  | 0.02 | 0.2  |\n",
      "+------+------+------+------+------+\n",
      "| G(1) | 0.4  | 0.25 | 0.08 | 0.3  |\n",
      "+------+------+------+------+------+\n",
      "| G(2) | 0.3  | 0.05 | 0.9  | 0.5  |\n",
      "+------+------+------+------+------+\n",
      "+------+------+------+------+------+\n",
      "| L    | L(0) | L(0) | L(1) | L(1) |\n",
      "+------+------+------+------+------+\n",
      "| S    | S(0) | S(1) | S(0) | S(1) |\n",
      "+------+------+------+------+------+\n",
      "| A(0) | 0.9  | 0.8  | 0.7  | 0.2  |\n",
      "+------+------+------+------+------+\n",
      "| A(1) | 0.1  | 0.2  | 0.3  | 0.8  |\n",
      "+------+------+------+------+------+\n"
     ]
    }
   ],
   "execution_count": 9
  },
  {
   "metadata": {},
   "cell_type": "markdown",
   "source": "# Adding conditional distributions to a model",
   "id": "24b7116fc0f5f51a"
  },
  {
   "metadata": {
    "ExecuteTime": {
     "end_time": "2025-10-15T08:28:39.972248Z",
     "start_time": "2025-10-15T08:28:39.967547Z"
    }
   },
   "cell_type": "code",
   "source": [
    "student_model.add_cpds(CPD_D, CPD_I, CPD_S, CPD_G, CPD_L, CPD_A)\n",
    "student_model.get_cpds()"
   ],
   "id": "b4d4a7dff7cc2530",
   "outputs": [
    {
     "data": {
      "text/plain": [
       "[<TabularCPD representing P(D:2) at 0x7f3139eb67b0>,\n",
       " <TabularCPD representing P(I:2) at 0x7f2fe6738550>,\n",
       " <TabularCPD representing P(S:2 | I:2) at 0x7f2fe6718e50>,\n",
       " <TabularCPD representing P(G:3 | I:2, D:2) at 0x7f2fe90d16a0>,\n",
       " <TabularCPD representing P(L:2 | G:3) at 0x7f2fe6718d50>,\n",
       " <TabularCPD representing P(A:2 | L:2, S:2) at 0x7f2fe90d19d0>]"
      ]
     },
     "execution_count": 11,
     "metadata": {},
     "output_type": "execute_result"
    }
   ],
   "execution_count": 11
  },
  {
   "metadata": {},
   "cell_type": "markdown",
   "source": "# Verification model",
   "id": "6e15ad37e14a2356"
  },
  {
   "metadata": {
    "ExecuteTime": {
     "end_time": "2025-10-15T08:29:20.370034Z",
     "start_time": "2025-10-15T08:29:20.365533Z"
    }
   },
   "cell_type": "code",
   "source": "student_model.check_model()",
   "id": "2819f1ca958bba09",
   "outputs": [
    {
     "data": {
      "text/plain": [
       "True"
      ]
     },
     "execution_count": 12,
     "metadata": {},
     "output_type": "execute_result"
    }
   ],
   "execution_count": 12
  },
  {
   "metadata": {},
   "cell_type": "markdown",
   "source": "# Verification Independence",
   "id": "41da24ddc6a4fc76"
  },
  {
   "metadata": {
    "ExecuteTime": {
     "end_time": "2025-10-15T08:30:05.759042Z",
     "start_time": "2025-10-15T08:30:05.755722Z"
    }
   },
   "cell_type": "code",
   "source": "student_model.local_independencies(['D','G','S','I','L','A'])",
   "id": "fbd81000231dcc95",
   "outputs": [
    {
     "data": {
      "text/plain": [
       "(D ⟂ S, I)\n",
       "(G ⟂ S | D, I)\n",
       "(S ⟂ D, G, L | I)\n",
       "(I ⟂ D)\n",
       "(L ⟂ D, S, I | G)\n",
       "(A ⟂ D, G, I | S, L)"
      ]
     },
     "execution_count": 13,
     "metadata": {},
     "output_type": "execute_result"
    }
   ],
   "execution_count": 13
  },
  {
   "metadata": {},
   "cell_type": "markdown",
   "source": "# Inference",
   "id": "921b08a6687a5c5"
  },
  {
   "metadata": {
    "ExecuteTime": {
     "end_time": "2025-10-15T08:30:54.224180Z",
     "start_time": "2025-10-15T08:30:54.219024Z"
    }
   },
   "cell_type": "code",
   "source": [
    "infer = VariableElimination(student_model)\n",
    "posterior_p = infer.query([\"D\",\"I\"], evidence={\"A\": 1})\n",
    "print(posterior_p)"
   ],
   "id": "9f02cc1d1b5986aa",
   "outputs": [
    {
     "name": "stdout",
     "output_type": "stream",
     "text": [
      "+------+------+------------+\n",
      "| D    | I    |   phi(D,I) |\n",
      "+======+======+============+\n",
      "| D(0) | I(0) |     0.0298 |\n",
      "+------+------+------------+\n",
      "| D(0) | I(1) |     0.3291 |\n",
      "+------+------+------------+\n",
      "| D(1) | I(0) |     0.0492 |\n",
      "+------+------+------------+\n",
      "| D(1) | I(1) |     0.5918 |\n",
      "+------+------+------------+\n"
     ]
    }
   ],
   "execution_count": 15
  }
 ],
 "metadata": {
  "kernelspec": {
   "display_name": "Python 3",
   "language": "python",
   "name": "python3"
  },
  "language_info": {
   "codemirror_mode": {
    "name": "ipython",
    "version": 2
   },
   "file_extension": ".py",
   "mimetype": "text/x-python",
   "name": "python",
   "nbconvert_exporter": "python",
   "pygments_lexer": "ipython2",
   "version": "2.7.6"
  }
 },
 "nbformat": 4,
 "nbformat_minor": 5
}
